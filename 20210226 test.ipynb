{
 "cells": [
  {
   "cell_type": "code",
   "execution_count": 1,
   "metadata": {},
   "outputs": [
    {
     "name": "stderr",
     "output_type": "stream",
     "text": [
      "Failed to initialize character device, will not be able to control gpios (lights, button, smoothiekill, smoothie reset). Only one connection can be made to the gpios at a time. If you need to control gpios, first stop the robot server with systemctl stop opentrons-robot-server. Until you restart the server with systemctl start opentrons-robot-server, you will be unable to control the robot using the Opentrons app.\n",
      "plungerCurrent is not a valid quirk\n",
      "plungerCurrent is not a valid quirk\n"
     ]
    }
   ],
   "source": [
    "import opentrons.execute\n",
    "protocol = opentrons.execute.get_protocol_api('2.8')\n",
    "protocol.home()# homing|"
   ]
  },
  {
   "cell_type": "code",
   "execution_count": 2,
   "metadata": {},
   "outputs": [
    {
     "name": "stderr",
     "output_type": "stream",
     "text": [
      "plungerCurrent is not a valid quirk\n",
      "plungerCurrent is not a valid quirk\n"
     ]
    }
   ],
   "source": [
    "pipette = protocol.load_instrument('p300_single_gen2', mount='left')\n",
    "\n",
    "\n",
    "pipette_1000 = protocol.load_instrument('p1000_single_gen2', mount='right')\n",
    "tiprack = protocol.load_labware('opentrons_96_tiprack_300ul', 10)\n",
    "tiprack_1000 = protocol.load_labware('opentrons_96_filtertiprack_1000ul', 11)\n",
    "liquid_well = protocol.load_labware('corning_24_wellplate_3.4ml_flat', 1)\n",
    "weight_well = protocol.load_labware('opentrons_96_tiprack_300ul', 2)\n"
   ]
  },
  {
   "cell_type": "code",
   "execution_count": 3,
   "metadata": {},
   "outputs": [],
   "source": [
    "#pipette_1000.pick_up_tip(tiprack_1000['A1'])"
   ]
  },
  {
   "cell_type": "code",
   "execution_count": 4,
   "metadata": {},
   "outputs": [],
   "source": [
    "#pipette_1000.flow_rate.aspirate = 100\n",
    "\n",
    "#pipette_1000.aspirate(800, liquid_well[\"D6\"])\n"
   ]
  },
  {
   "cell_type": "code",
   "execution_count": 5,
   "metadata": {},
   "outputs": [],
   "source": [
    "#pipette_1000.drop_tip(weight_well[\"E4\"].top(30))"
   ]
  },
  {
   "cell_type": "code",
   "execution_count": 6,
   "metadata": {},
   "outputs": [],
   "source": [
    "#pipette_1000.blow_out()"
   ]
  },
  {
   "cell_type": "code",
   "execution_count": 7,
   "metadata": {},
   "outputs": [],
   "source": [
    "#pipette.pick_up_tip(tiprack['E2'])"
   ]
  },
  {
   "cell_type": "markdown",
   "metadata": {},
   "source": [
    "#### Dispense first and Aspirate immediately"
   ]
  },
  {
   "cell_type": "code",
   "execution_count": 41,
   "metadata": {},
   "outputs": [],
   "source": [
    "flowrate_array = [ 5, 10, 30, 50, 100, 200,\n",
    "                   300, 500]\n",
    "amount = 300\n",
    "\n"
   ]
  },
  {
   "cell_type": "code",
   "execution_count": 48,
   "metadata": {},
   "outputs": [
    {
     "name": "stderr",
     "output_type": "stream",
     "text": [
      "Out of bounds move: Y=(352.8 motor controller, 352.8 deck) too high for limit 350.0\n"
     ]
    },
    {
     "name": "stdout",
     "output_type": "stream",
     "text": [
      "dispense 300 uL/sec\n",
      "active dispensing time 1.2306771278381348 sec\n",
      "quick aspiration time 1.390181541442871 sec\n"
     ]
    },
    {
     "name": "stderr",
     "output_type": "stream",
     "text": [
      "Out of bounds move: Y=(352.8 motor controller, 352.8 deck) too high for limit 350.0\n",
      "Out of bounds move: Y=(352.8 motor controller, 352.8 deck) too high for limit 350.0\n",
      "Out of bounds move: Y=(352.8 motor controller, 352.8 deck) too high for limit 350.0\n",
      "Out of bounds move: Y=(352.8 motor controller, 352.8 deck) too high for limit 350.0\n",
      "Out of bounds move: Y=(352.8 motor controller, 352.8 deck) too high for limit 350.0\n"
     ]
    },
    {
     "data": {
      "text/plain": [
       "<InstrumentContext: p1000_single_v2.1 in RIGHT>"
      ]
     },
     "execution_count": 48,
     "metadata": {},
     "output_type": "execute_result"
    }
   ],
   "source": [
    "import time\n",
    "i = 6\n",
    "pipette_1000.flow_rate.aspirate = 50\n",
    "#pipette_1000.move_to(liquid_well['D6'].top(30))\n",
    "#pipette_1000.flow_rate.dispense = 50\n",
    "#pipette_1000.dispense(300, liquid_well['D6'].top(30))\n",
    "#pipette_1000.blow_out()\n",
    "#time.sleep(5)\n",
    "pipette_1000.pick_up_tip(tiprack_1000['D'+str(i+1)])\n",
    "pipette_1000.aspirate(800, liquid_well['B3'].top(-15))\n",
    "time.sleep(30)\n",
    "pipette_1000.touch_tip()\n",
    "time.sleep(10)\n",
    "print('dispense', flowrate_array[i],'uL/sec')\n",
    "pipette_1000.flow_rate.dispense = flowrate_array[i]\n",
    "pipette_1000.move_to(weight_well[\"E4\"].top(30))\n",
    "start = time.time()\n",
    "pipette_1000.dispense(amount, weight_well[\"E4\"].top(30))\n",
    "done_1 = time.time()\n",
    "print('active dispensing time', done_1 - start, 'sec')\n",
    "#pipette_1000.touch_tip()\n",
    "pipette_1000.flow_rate.aspirate = 500\n",
    "pipette_1000.aspirate(500, weight_well[\"E4\"].top(30))\n",
    "done_2 = time.time()\n",
    "print('quick aspiration time', done_2 - done_1, 'sec')\n",
    "\n",
    "pipette_1000.drop_tip()"
   ]
  },
  {
   "cell_type": "code",
   "execution_count": 52,
   "metadata": {},
   "outputs": [
    {
     "data": {
      "text/plain": [
       "<InstrumentContext: p1000_single_v2.1 in RIGHT>"
      ]
     },
     "execution_count": 52,
     "metadata": {},
     "output_type": "execute_result"
    }
   ],
   "source": [
    "\n",
    "pipette_1000.aspirate(500, liquid_well['A2'].top(-15))"
   ]
  },
  {
   "cell_type": "code",
   "execution_count": 43,
   "metadata": {},
   "outputs": [
    {
     "data": {
      "text/plain": [
       "<InstrumentContext: p1000_single_v2.1 in RIGHT>"
      ]
     },
     "execution_count": 43,
     "metadata": {},
     "output_type": "execute_result"
    }
   ],
   "source": [
    "pipette_1000.flow_rate.dispense = 100\n",
    "pipette_1000.dispense(800, liquid_well['B4'].top(1))"
   ]
  },
  {
   "cell_type": "code",
   "execution_count": 29,
   "metadata": {},
   "outputs": [],
   "source": [
    "start = time.time()\n",
    "for i in range(10):\n",
    "    pipette_1000.flow_rate.aspirate = 50\n",
    "    pipette_1000.flow_rate.dispense = 50\n",
    "    pipette_1000.aspirate(200, weight_well[\"E4\"].top(30))\n",
    "    pipette_1000.dispense(200, weight_well[\"E4\"].top(30))\n",
    "    \n"
   ]
  },
  {
   "cell_type": "code",
   "execution_count": 53,
   "metadata": {},
   "outputs": [
    {
     "name": "stdout",
     "output_type": "stream",
     "text": [
      "active dispensing time 2449.948794364929 sec\n",
      "quick aspiration time 1.437211036682129 sec\n"
     ]
    },
    {
     "name": "stderr",
     "output_type": "stream",
     "text": [
      "Out of bounds move: Y=(352.8 motor controller, 352.8 deck) too high for limit 350.0\n",
      "Out of bounds move: Y=(352.8 motor controller, 352.8 deck) too high for limit 350.0\n",
      "Out of bounds move: Y=(352.8 motor controller, 352.8 deck) too high for limit 350.0\n",
      "Out of bounds move: Y=(352.8 motor controller, 352.8 deck) too high for limit 350.0\n",
      "Out of bounds move: Y=(352.8 motor controller, 352.8 deck) too high for limit 350.0\n"
     ]
    },
    {
     "data": {
      "text/plain": [
       "<InstrumentContext: p1000_single_v2.1 in RIGHT>"
      ]
     },
     "execution_count": 53,
     "metadata": {},
     "output_type": "execute_result"
    }
   ],
   "source": [
    "pipette_1000.flow_rate.dispense = flowrate_array[5]\n",
    "pipette_1000.dispense(amount, weight_well[\"E4\"].top(30))\n",
    "done_1 = time.time()\n",
    "print('active dispensing time', done_1 - start, 'sec')\n",
    "#pipette_1000.touch_tip()\n",
    "pipette_1000.flow_rate.aspirate = 500\n",
    "pipette_1000.aspirate(500, weight_well[\"E4\"].top(30))\n",
    "done_2 = time.time()\n",
    "print('quick aspiration time', done_2 - done_1, 'sec')\n",
    "pipette_1000.drop_tip()"
   ]
  },
  {
   "cell_type": "code",
   "execution_count": 5,
   "metadata": {},
   "outputs": [
    {
     "name": "stderr",
     "output_type": "stream",
     "text": [
      "Out of bounds move: Y=(352.8 motor controller, 352.8 deck) too high for limit 350.0\n",
      "alarm/error outside hard halt: ALARM: Hard limit +Z\n",
      "alarm/error: command=M907 A0.1 B0.05 C0.3 X0.3 Y0.3 Z0.8 G4P0.005 G0Z199.0, resp=ALARM: Hard limit +Z\n"
     ]
    },
    {
     "ename": "NameError",
     "evalue": "name 'flowrate_array' is not defined",
     "output_type": "error",
     "traceback": [
      "\u001b[0;31m---------------------------------------------------------------------------\u001b[0m",
      "\u001b[0;31mNameError\u001b[0m                                 Traceback (most recent call last)",
      "\u001b[0;32m<ipython-input-5-95191852e209>\u001b[0m in \u001b[0;36m<module>\u001b[0;34m()\u001b[0m\n\u001b[1;32m     14\u001b[0m \u001b[0mpipette\u001b[0m\u001b[0;34m.\u001b[0m\u001b[0mtouch_tip\u001b[0m\u001b[0;34m(\u001b[0m\u001b[0;34m)\u001b[0m\u001b[0;34m\u001b[0m\u001b[0;34m\u001b[0m\u001b[0m\n\u001b[1;32m     15\u001b[0m \u001b[0mtime\u001b[0m\u001b[0;34m.\u001b[0m\u001b[0msleep\u001b[0m\u001b[0;34m(\u001b[0m\u001b[0;36m10\u001b[0m\u001b[0;34m)\u001b[0m\u001b[0;34m\u001b[0m\u001b[0;34m\u001b[0m\u001b[0m\n\u001b[0;32m---> 16\u001b[0;31m \u001b[0mprint\u001b[0m\u001b[0;34m(\u001b[0m\u001b[0;34m'dispense'\u001b[0m\u001b[0;34m,\u001b[0m \u001b[0mflowrate_array\u001b[0m\u001b[0;34m[\u001b[0m\u001b[0mi\u001b[0m\u001b[0;34m]\u001b[0m\u001b[0;34m,\u001b[0m\u001b[0;34m'uL/sec'\u001b[0m\u001b[0;34m)\u001b[0m\u001b[0;34m\u001b[0m\u001b[0;34m\u001b[0m\u001b[0m\n\u001b[0m\u001b[1;32m     17\u001b[0m \u001b[0mpipette\u001b[0m\u001b[0;34m.\u001b[0m\u001b[0mflow_rate\u001b[0m\u001b[0;34m.\u001b[0m\u001b[0mdispense\u001b[0m \u001b[0;34m=\u001b[0m \u001b[0mflowrate_array\u001b[0m\u001b[0;34m[\u001b[0m\u001b[0mi\u001b[0m\u001b[0;34m]\u001b[0m\u001b[0;34m\u001b[0m\u001b[0;34m\u001b[0m\u001b[0m\n\u001b[1;32m     18\u001b[0m \u001b[0mpipette\u001b[0m\u001b[0;34m.\u001b[0m\u001b[0mmove_to\u001b[0m\u001b[0;34m(\u001b[0m\u001b[0mweight_well\u001b[0m\u001b[0;34m[\u001b[0m\u001b[0;34m\"E4\"\u001b[0m\u001b[0;34m]\u001b[0m\u001b[0;34m.\u001b[0m\u001b[0mtop\u001b[0m\u001b[0;34m(\u001b[0m\u001b[0;36m30\u001b[0m\u001b[0;34m)\u001b[0m\u001b[0;34m)\u001b[0m\u001b[0;34m\u001b[0m\u001b[0;34m\u001b[0m\u001b[0m\n",
      "\u001b[0;31mNameError\u001b[0m: name 'flowrate_array' is not defined"
     ]
    }
   ],
   "source": [
    "import time\n",
    "amount = 250\n",
    "i = 1\n",
    "\n",
    "pipette.flow_rate.aspirate = 20\n",
    "#pipette_1000.move_to(liquid_well['D6'].top(30))\n",
    "#pipette_1000.flow_rate.dispense = 50\n",
    "#pipette_1000.dispense(300, liquid_well['D6'].top(30))\n",
    "#pipette_1000.blow_out()\n",
    "#time.sleep(5)\n",
    "pipette.pick_up_tip(tiprack['E'+str(i+1)])\n",
    "pipette.aspirate(280, liquid_well['D6'])\n",
    "time.sleep(45)\n",
    "pipette.touch_tip()\n",
    "time.sleep(10)\n",
    "print('dispense', flowrate_array[i],'uL/sec')\n",
    "pipette.flow_rate.dispense = flowrate_array[i]\n",
    "pipette.move_to(weight_well[\"E4\"].top(30))\n",
    "start = time.time()\n",
    "pipette.dispense(amount, weight_well[\"E4\"].top(30))\n",
    "done_1 = time.time()\n",
    "print('active dispensing time', done_1 - start, 'sec')\n",
    "#pipette_1000.touch_tip()\n",
    "pipette.flow_rate.aspirate = 500\n",
    "pipette.aspirate(50, weight_well[\"E4\"].top(30))\n",
    "done_2 = time.time()\n",
    "print('quick aspiration time', done_2 - done_1, 'sec')\n",
    "\n",
    "pipette.drop_tip()"
   ]
  },
  {
   "cell_type": "code",
   "execution_count": 7,
   "metadata": {},
   "outputs": [
    {
     "name": "stdout",
     "output_type": "stream",
     "text": [
      "active dispensing time 28.70199179649353 sec\n",
      "quick aspiration time 0.674159049987793 sec\n"
     ]
    },
    {
     "name": "stderr",
     "output_type": "stream",
     "text": [
      "Out of bounds move: Y=(353.5 motor controller, 353.5 deck) too high for limit 350.0\n",
      "Out of bounds move: Y=(353.5 motor controller, 353.5 deck) too high for limit 350.0\n",
      "Out of bounds move: Y=(353.5 motor controller, 353.5 deck) too high for limit 350.0\n",
      "Out of bounds move: Y=(353.5 motor controller, 353.5 deck) too high for limit 350.0\n",
      "Out of bounds move: Y=(353.5 motor controller, 353.5 deck) too high for limit 350.0\n"
     ]
    },
    {
     "data": {
      "text/plain": [
       "<InstrumentContext: p300_single_v2.0 in LEFT>"
      ]
     },
     "execution_count": 7,
     "metadata": {},
     "output_type": "execute_result"
    }
   ],
   "source": [
    "pipette.flow_rate.dispense = flowrate_array[i]\n",
    "pipette.move_to(weight_well[\"E4\"].top(30))\n",
    "start = time.time()\n",
    "pipette.dispense(amount, weight_well[\"E4\"].top(30))\n",
    "done_1 = time.time()\n",
    "print('active dispensing time', done_1 - start, 'sec')\n",
    "#pipette_1000.touch_tip()\n",
    "pipette.flow_rate.aspirate = 500\n",
    "pipette.aspirate(50, weight_well[\"E4\"].top(30))\n",
    "done_2 = time.time()\n",
    "print('quick aspiration time', done_2 - done_1, 'sec')\n",
    "\n",
    "pipette.drop_tip()"
   ]
  },
  {
   "cell_type": "code",
   "execution_count": 47,
   "metadata": {},
   "outputs": [
    {
     "name": "stderr",
     "output_type": "stream",
     "text": [
      "Out of bounds move: Y=(352.8 motor controller, 352.8 deck) too high for limit 350.0\n",
      "Out of bounds move: Y=(352.8 motor controller, 352.8 deck) too high for limit 350.0\n",
      "Out of bounds move: Y=(352.8 motor controller, 352.8 deck) too high for limit 350.0\n",
      "Out of bounds move: Y=(352.8 motor controller, 352.8 deck) too high for limit 350.0\n",
      "Out of bounds move: Y=(352.8 motor controller, 352.8 deck) too high for limit 350.0\n"
     ]
    },
    {
     "data": {
      "text/plain": [
       "<InstrumentContext: p1000_single_v2.1 in RIGHT>"
      ]
     },
     "execution_count": 47,
     "metadata": {},
     "output_type": "execute_result"
    }
   ],
   "source": [
    "pipette_1000.drop_tip()"
   ]
  },
  {
   "cell_type": "code",
   "execution_count": 15,
   "metadata": {},
   "outputs": [
    {
     "name": "stderr",
     "output_type": "stream",
     "text": [
      "Out of bounds move: Y=(353.5 motor controller, 353.5 deck) too high for limit 350.0\n",
      "Out of bounds move: Y=(353.5 motor controller, 353.5 deck) too high for limit 350.0\n",
      "Out of bounds move: Y=(353.5 motor controller, 353.5 deck) too high for limit 350.0\n",
      "Out of bounds move: Y=(353.5 motor controller, 353.5 deck) too high for limit 350.0\n",
      "Out of bounds move: Y=(353.5 motor controller, 353.5 deck) too high for limit 350.0\n"
     ]
    },
    {
     "data": {
      "text/plain": [
       "<InstrumentContext: p300_single_v2.0 in LEFT>"
      ]
     },
     "execution_count": 15,
     "metadata": {},
     "output_type": "execute_result"
    }
   ],
   "source": [
    "pipette.drop_tip()"
   ]
  },
  {
   "cell_type": "code",
   "execution_count": null,
   "metadata": {},
   "outputs": [],
   "source": []
  }
 ],
 "metadata": {
  "kernelspec": {
   "display_name": "Python 3",
   "language": "python",
   "name": "python3"
  },
  "language_info": {
   "codemirror_mode": {
    "name": "ipython",
    "version": 3
   },
   "file_extension": ".py",
   "mimetype": "text/x-python",
   "name": "python",
   "nbconvert_exporter": "python",
   "pygments_lexer": "ipython3",
   "version": "3.7.1"
  }
 },
 "nbformat": 4,
 "nbformat_minor": 2
}
